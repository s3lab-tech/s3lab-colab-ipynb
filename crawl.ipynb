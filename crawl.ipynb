{
  "nbformat": 4,
  "nbformat_minor": 0,
  "metadata": {
    "colab": {
      "name": "crawl.ipynb",
      "version": "0.3.2",
      "provenance": [],
      "collapsed_sections": [],
      "include_colab_link": true
    },
    "kernelspec": {
      "name": "python3",
      "display_name": "Python 3"
    }
  },
  "cells": [
    {
      "cell_type": "markdown",
      "metadata": {
        "id": "view-in-github",
        "colab_type": "text"
      },
      "source": [
        "<a href=\"https://colab.research.google.com/github/s3lab-tech/s3lab-colab-ipynb/blob/master/crawl.ipynb\" target=\"_parent\"><img src=\"https://colab.research.google.com/assets/colab-badge.svg\" alt=\"Open In Colab\"/></a>"
      ]
    },
    {
      "metadata": {
        "id": "PkSkocT4zgOO",
        "colab_type": "text"
      },
      "cell_type": "markdown",
      "source": [
        "* Google driveのspreadsheetのsite_urlをクロールする\n"
      ]
    },
    {
      "metadata": {
        "id": "zkr7E2gpqw1y",
        "colab_type": "code",
        "colab": {}
      },
      "cell_type": "code",
      "source": [
        "!pip install gspread\n",
        "!pip install gspread-dataframe\n",
        "!pip install pandas\n",
        "\n",
        "import pandas as pd\n",
        "import gspread\n",
        "from gspread_dataframe import get_as_dataframe, set_with_dataframe\n",
        "from google.colab import auth\n",
        "auth.authenticate_user()\n",
        "from oauth2client.client import GoogleCredentials\n",
        "gc = gspread.authorize(GoogleCredentials.get_application_default()) \n"
      ],
      "execution_count": 0,
      "outputs": []
    },
    {
      "metadata": {
        "id": "8D_LL6mqrvw6",
        "colab_type": "code",
        "colab": {}
      },
      "cell_type": "code",
      "source": [
        "spreadsheet = gc.open(\"crawl.sheet\")\n",
        "sheet =  spreadsheet.get_worksheet(0)\n",
        "df = pd.DataFrame(sheet.get_all_records())\n"
      ],
      "execution_count": 0,
      "outputs": []
    },
    {
      "metadata": {
        "id": "lc1V9NW-4Um8",
        "colab_type": "code",
        "colab": {}
      },
      "cell_type": "code",
      "source": [
        "df.columns"
      ],
      "execution_count": 0,
      "outputs": []
    },
    {
      "metadata": {
        "id": "Se6qqqBb8Ouh",
        "colab_type": "code",
        "colab": {}
      },
      "cell_type": "code",
      "source": [
        "line_count = len(df)\n",
        "line_count"
      ],
      "execution_count": 0,
      "outputs": []
    },
    {
      "metadata": {
        "id": "YSHZ-2iQBNPo",
        "colab_type": "code",
        "colab": {}
      },
      "cell_type": "code",
      "source": [
        "for index, row in df.iterrows():\n",
        "    print(index)\n",
        "    print(row['site_url'])"
      ],
      "execution_count": 0,
      "outputs": []
    },
    {
      "metadata": {
        "id": "U-eoMPToJZ6K",
        "colab_type": "code",
        "colab": {}
      },
      "cell_type": "code",
      "source": [
        "crawl_target_urls = list(df.loc[:,['site_url']].values.flatten())\n",
        "crawl_target_urls"
      ],
      "execution_count": 0,
      "outputs": []
    },
    {
      "metadata": {
        "id": "aX9JGdeRIZ-q",
        "colab_type": "code",
        "colab": {}
      },
      "cell_type": "code",
      "source": [
        "!pip install bs4\n",
        "\n",
        "import requests\n",
        "from bs4 import BeautifulSoup\n",
        "\n",
        "def crawl(url):\n",
        "    response = requests.get(url)\n",
        "    plain = response.text\n",
        "    s = BeautifulSoup(plain, \"html.parser\")\n",
        "    print(s)\n",
        "\n",
        "for url in crawl_target_urls:\n",
        "    crawl(url)\n",
        "\n"
      ],
      "execution_count": 0,
      "outputs": []
    }
  ]
}